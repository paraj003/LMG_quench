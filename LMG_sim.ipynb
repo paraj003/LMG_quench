{
 "cells": [
  {
   "cell_type": "markdown",
   "metadata": {},
   "source": [
    "# Code to simulate LMG Model\n",
    "We have the following Hamiltonian\n",
    "\\begin{align}\n",
    "H&=-\\frac{J}{N}\\sum_{i<j}\\gamma_z \\sigma_{i}^{z}\\sigma_{j}^{z}+\\gamma_y \\sigma_{i}^{y}\\sigma_{j}^{y}-\\Gamma\\sum_{i}\\sigma_{i}^{x}\n",
    "\\end{align}\n",
    "This reduces to (See ~/Dropbox/Research_Projects_Current/LMG_quench/LMG_quench.lyx),\n",
    "\\begin{equation}\n",
    "\\frac{J}{2}\\left(\\gamma_{z}-\\frac{\\gamma_{y}N}{2}\\right)-\\frac{J\\left(2\\gamma_{z}-\\gamma_{y}\\right)}{N}S_{z}^{2}+\\frac{J\\gamma_{y}}{2N}\\left(S_{+}^{2}+S_{-}^{2}\\right)-\\Gamma\\left(S_{+}+S_{-}\\right)\n",
    "\\end{equation}\n",
    "with the matrix elements,\n",
    "\\begin{align}\n",
    "\\left\\langle S=\\frac{N}{2},M\\right|H\\left|S=\\frac{N}{2},M^{\\prime}\\right\\rangle \t=&\\delta_{MM^{\\prime}}\\left[\\frac{J}{2}\\left(\\gamma_{z}+\\gamma_{y}\\left(1-\\frac{2S\\left(S+1\\right)}{N}\\right)\\right)-\\frac{J\\left(2\\gamma_{z}-\\gamma_{y}\\right)}{N}M^{2}\\right]+ \\nonumber \\\\\n",
    "\t&\\ \\ \\ \\delta_{MM^{\\prime}-2}\\left[\\frac{J\\gamma_{y}}{2N}\\sqrt{\\left(S\\left(S+1\\right)-\\left(M+2\\right)\\left(M+1\\right)\\right)\\left(S\\left(S+1\\right)-M\\left(M+1\\right)\\right)}\\right]+\\nonumber \\\\\n",
    "\t&\\ \\ \\ \\delta_{MM^{\\prime}+2}\\left[\\frac{J\\gamma_{y}}{2N}\\sqrt{\\left(S\\left(S+1\\right)-\\left(M-2\\right)\\left(M-1\\right)\\right)\\left(S\\left(S+1\\right)-M\\left(M-1\\right)\\right)}\\right]+\\nonumber \\\\\n",
    "\t&\\ \\ \\ \\delta_{MM^{\\prime}-1}\\left[-\\Gamma\\sqrt{\\left(S\\left(S+1\\right)-M\\left(M+1\\right)\\right)}\\right]+\\nonumber \\\\\n",
    "\t&\\ \\ \\ \\delta_{MM^{\\prime}+1}\\left[-\\Gamma\\sqrt{\\left(S\\left(S+1\\right)-M\\left(M-1\\right)\\right)}\\right]\n",
    "\\end{align}"
   ]
  },
  {
   "cell_type": "code",
   "execution_count": 2,
   "metadata": {},
   "outputs": [
    {
     "name": "stderr",
     "output_type": "stream",
     "text": [
      "/home/paraj/.local/lib/python3.5/site-packages/h5py/__init__.py:36: FutureWarning: Conversion of the second argument of issubdtype from `float` to `np.floating` is deprecated. In future, it will be treated as `np.float64 == np.dtype(float).type`.\n",
      "  from ._conv import register_converters as _register_converters\n"
     ]
    }
   ],
   "source": [
    "import numpy as np\n",
    "from scipy import linalg as LA\n",
    "import scipy.sparse.linalg as spla\n",
    "from matplotlib import pyplot as plt\n",
    "from matplotlib.pyplot import cm \n",
    "from latex_envs.latex_envs import figcaption\n",
    "#import chardet\n",
    "import os\n",
    "import mod_LMG_v1 as LMG\n",
    "import h5py\n",
    "#for Latex font on figures\n",
    "from matplotlib import rc\n",
    "rc('font',**{'family':'sans-serif','sans-serif':['Roman']})\n",
    "rc('text', usetex=True)"
   ]
  },
  {
   "cell_type": "markdown",
   "metadata": {},
   "source": [
    "## Ground state phase diagram \n",
    "We look at the ground state phase diagram of the postquench Hamiltonian"
   ]
  },
  {
   "cell_type": "code",
   "execution_count": 163,
   "metadata": {},
   "outputs": [
    {
     "name": "stdout",
     "output_type": "stream",
     "text": [
      "99\r"
     ]
    }
   ],
   "source": [
    "#calculate magnetization as a function of magnetic field\n",
    "#tests magnetizationz2\n",
    "Γarr=np.linspace(0.,2,40)\n",
    "Larr=np.concatenate([np.arange(100,1000,100),np.arange(1000,2000,1000)])#choose even\n",
    "magsqlist=np.ones([np.size(Γarr),1])\n",
    "criticalmagsqlist=np.ones([np.size(Larr),1])\n",
    "\n",
    "for p in range(np.size(Γarr)):\n",
    "    L=100\n",
    "    print(p, end='\\r', flush=True)\n",
    "    paramvals=LMG.Ham_params(N=L,S=L/2,J=1,γz=1,γy=0.5,Γ=Γarr[p]) \n",
    "    Ham=LMG.LMG_generateHam(paramvals)\n",
    "    GSenergy,vec=spla.eigs(Ham,k=1,which=\"SR\")\n",
    "    GState=vec[:,0]\n",
    "    magsqlist[p]=LMG.magnetizationϕ2(GState,paramvals,1,0)+LMG.magnetizationϕ2(GState,paramvals,0,1)\n",
    "for q in range(np.size(Larr)):\n",
    "    L=Larr[q]\n",
    "    print(q, end='\\r', flush=True)\n",
    "    paramvals=LMG.Ham_params(N=L,S=L/2,J=1,γz=0,γy=1,Γ=1) \n",
    "    Ham=LMG.LMG_generateHam(paramvals)\n",
    "    GSenergy,vec=spla.eigs(Ham,k=1,which=\"SR\")\n",
    "    GState=vec[:,0]\n",
    "    criticalmagsqlist[q]=LMG.magnetizationϕ2(GState,paramvals,1,0)+LMG.magnetizationϕ2(GState,paramvals,0,1)\n",
    "criticalΓ=paramvals.J*max(paramvals.γz,paramvals.γy)"
   ]
  },
  {
   "cell_type": "code",
   "execution_count": 164,
   "metadata": {},
   "outputs": [],
   "source": [
    "#fitting to system size dependence\n",
    "#linear fit to data\n",
    "logy=np.log10(criticalmagsqlist)\n",
    "logx=np.log10(Larr)\n",
    "m1,b1 = np.polyfit(logx,logy, 1)"
   ]
  },
  {
   "cell_type": "code",
   "execution_count": 165,
   "metadata": {
    "scrolled": true
   },
   "outputs": [
    {
     "data": {
      "text/html": [
       "<div class=caption><b> Caption: </b> (a)Magnetization as a function of magnetic field with dashed line showing analytical expectation (b) $L$ dependence of magnetization at the critical point. Seems like it agrees with $M^2\\sim N^{-2/3}$</div>"
      ],
      "text/plain": [
       "<IPython.core.display.HTML object>"
      ]
     },
     "metadata": {},
     "output_type": "display_data"
    },
    {
     "data": {
      "application/json": {
       "caption": "(a)Magnetization as a function of magnetic field with dashed line showing analytical expectation (b) $L$ dependence of magnetization at the critical point. Seems like it agrees with $M^2\\sim N^{-2/3}$",
       "label": " "
      }
     },
     "metadata": {
      "application/json": {
       "expanded": false
      }
     },
     "output_type": "display_data"
    },
    {
     "data": {
      "image/png": "[encoded data removed]",
      "text/plain": [
       "<matplotlib.figure.Figure at 0x7f56263f0b70>"
      ]
     },
     "metadata": {},
     "output_type": "display_data"
    }
   ],
   "source": [
    "#plotting\n",
    "plt.figure(figsize=(12,4))\n",
    "plt.suptitle(\"$\\\\gamma_z=$\"+str(paramvals.γz)+\", $\\\\gamma_y=$\"+str(paramvals.γy),fontsize=20)\n",
    "plt.subplot(1,2,1)\n",
    "plt.plot(Γarr, magsqlist,'-o',label='Numerics')\n",
    "plt.axvline(criticalΓ,linestyle='dashed',color= 'black',label='Analytical $\\\\Gamma_c$',linewidth=2)\n",
    "plt.ylim([0,np.max(magsqlist)+0.2])\n",
    "plt.xlabel(\"Magnetic Field, $\\\\Gamma/J$\",fontsize=15)\n",
    "plt.ylabel(\"Magentization, $M^2=\\\\frac{4}{L^2}\\\\left\\\\langle S_z^2+S_y^2\\\\right\\\\rangle$\",fontsize=15)\n",
    "plt.legend()\n",
    "plt.subplot(1,2,2)\n",
    "plt.loglog(Larr,criticalmagsqlist,'o',label='Numerics, $\\Gamma=1$' % Γarr[p])\n",
    "plt.loglog(Larr,(10**b1)*(Larr)**m1,'--',linewidth=2,color='red',label='Fit$\\\\sim L^{%0.2f}$' % m1)\n",
    "plt.xlabel(\"System Size, $L$\",fontsize=15)\n",
    "plt.ylabel(\"Magentization, $M^2=\\\\frac{4}{L^2}\\\\left\\\\langle S_z^2+S_y^2\\\\right\\\\rangle$\",fontsize=15)\n",
    "plt.legend()\n",
    "figcaption(\"(a)Magnetization as a function of magnetic field with dashed line showing analytical expectation (b) $L$ dependence of magnetization at the critical point. Seems like it agrees with $M^2\\sim N^{-2/3}$\")"
   ]
  },
  {
   "cell_type": "markdown",
   "metadata": {},
   "source": [
    "## Phase diagram as a function of the anisotropy.\n",
    "We would like to recover the phase diagram as a function of the anisotropy parameter $\\gamma$. The attempt is to reproduce the Fig.1 in PHYSICAL REVIEW E 78, 021106 (2008). There are four phases depending on the density of states. We would like to obtain for following parameters. In the paper, the Hamiltonian is defined as,\n",
    "\\begin{equation}\n",
    "H=-\\frac{1}{N}(\\gamma_x S_x^2+\\gamma_yS_y^2)-hS_z\n",
    "\\end{equation}\n",
    "The different phases parameterized by ($\\gamma_x,\\gamma_y,h$) are identified as\n",
    "$I\\rightarrow(1/2,1/3,1)\n",
    "II\\rightarrow (2,1/2,1)\n",
    "III\\rightarrow (5,-3,1)\n",
    "IV \\rightarrow(5,3,1)$.\n",
    "\n",
    "Translating to my notation, $\\gamma_x\\rightarrow 2J$, $\\gamma_y\\rightarrow 2J\\gamma$, $h\\rightarrow 2\\Gamma$. And the energies are ofset by a constant $E_{PhysRevE}=E-\\frac{J}{2}(1+\\gamma)$. So we have the following phases,\n",
    "\\begin{enumerate}\n",
    "\\item $I\\rightarrow (J=1/4,\\gamma=2/3,\\Gamma=1/2)$\n",
    "\\item $II\\rightarrow (J=1,\\gamma=1/4,\\Gamma=1/2)$\n",
    "\\item $III\\rightarrow (J=5/2,\\gamma=-3/5,\\Gamma=1/2)$\n",
    "\\item $IV\\rightarrow (J=5/2,\\gamma=3/5,\\Gamma=1/2)$\n",
    "\\end{enumerate}"
   ]
  },
  {
   "cell_type": "code",
   "execution_count": 17,
   "metadata": {},
   "outputs": [
    {
     "data": {
      "text/plain": [
       "<matplotlib.text.Text at 0x7f5f8c0f9a58>"
      ]
     },
     "execution_count": 17,
     "metadata": {},
     "output_type": "execute_result"
    },
    {
     "data": {
      "image/png": "[encoded data removed]",
      "text/plain": [
       "<matplotlib.figure.Figure at 0x7f5f8c19e710>"
      ]
     },
     "metadata": {},
     "output_type": "display_data"
    }
   ],
   "source": [
    "L=2000\n",
    "plt.figure(figsize=[12,10])\n",
    "#####Phase I\n",
    "plt.subplot(2,2,1)\n",
    "paramvals=LMG.Ham_params(N=L,S=L/2,J=1/4,γ=2/3,Γ=1/2)\n",
    "Ham=LMG.LMG_generateHam(paramvals)\n",
    "(Ham.transpose() == Ham).all() #check hermitian\n",
    "#diagonalize\n",
    "Energies,Eigenvecs=LA.eig(Ham) #full diagonalize\n",
    "counts,bin_edges = np.histogram(np.real(Energies), bins=15)\n",
    "bincenters = 0.5*(bin_edges[1:]+bin_edges[:-1])\n",
    "energypersite=bincenters/L-1/8*(1+2/3)\n",
    "plt.plot(energypersite,counts/(np.sum(counts)*np.abs(energypersite[1]-energypersite[2])),'-')\n",
    "plt.title('Phase $I$')\n",
    "plt.xlabel('Energies')\n",
    "plt.ylabel('Density of States')\n",
    "#####Phase II\n",
    "plt.subplot(2,2,2)\n",
    "paramvals=LMG.Ham_params(N=L,S=L/2,J=1,γ=1/4,Γ=1/2)\n",
    "Ham=LMG.LMG_generateHam(paramvals)\n",
    "(Ham.transpose() == Ham).all() #check hermitian\n",
    "#diagonalize\n",
    "Energies,Eigenvecs=LA.eig(Ham) #full diagonalize\n",
    "counts,bin_edges = np.histogram(np.real(Energies), bins=15)\n",
    "bincenters = 0.5*(bin_edges[1:]+bin_edges[:-1])\n",
    "energypersite=bincenters/L-1/2*(1+1/4)\n",
    "plt.plot(energypersite,counts/(np.sum(counts)*np.abs(energypersite[1]-energypersite[2])),'-')\n",
    "plt.title('Phase $II$')\n",
    "plt.xlabel('Energies')\n",
    "plt.ylabel('Density of States')\n",
    "#####Phase III\n",
    "plt.subplot(2,2,3)\n",
    "paramvals=LMG.Ham_params(N=L,S=L/2,J=5/2,γ=-3/5,Γ=1/2)\n",
    "Ham=LMG.LMG_generateHam(paramvals)\n",
    "(Ham.transpose() == Ham).all() #check hermitian\n",
    "#diagonalize\n",
    "Energies,Eigenvecs=LA.eig(Ham) #full diagonalize\n",
    "counts,bin_edges = np.histogram(np.real(Energies), bins=15)\n",
    "bincenters = 0.5*(bin_edges[1:]+bin_edges[:-1])\n",
    "energypersite=bincenters/L-5/4*(1-3/5)\n",
    "plt.plot(energypersite,counts/(np.sum(counts)*np.abs(energypersite[1]-energypersite[2])),'-')\n",
    "plt.title('Phase $III$')\n",
    "plt.xlabel('Energies')\n",
    "plt.ylabel('Density of States')\n",
    "#####Phase IV\n",
    "plt.subplot(2,2,4)\n",
    "paramvals=LMG.Ham_params(N=L,S=L/2,J=5/2,γ=3/5,Γ=1/2)\n",
    "Ham=LMG.LMG_generateHam(paramvals)\n",
    "(Ham.transpose() == Ham).all() #check hermitian\n",
    "#diagonalize\n",
    "Energies,Eigenvecs=LA.eig(Ham) #full diagonalize\n",
    "counts,bin_edges = np.histogram(np.real(Energies), bins=15)\n",
    "bincenters = 0.5*(bin_edges[1:]+bin_edges[:-1])\n",
    "energypersite=bincenters/L-5/4*(1+3/5)\n",
    "plt.plot(energypersite,counts/(np.sum(counts)*np.abs(energypersite[1]-energypersite[2])),'-')\n",
    "plt.title('Phase $IV$')\n",
    "plt.xlabel('Energies')\n",
    "plt.ylabel('Density of States')"
   ]
  },
  {
   "cell_type": "markdown",
   "metadata": {},
   "source": [
    "x\n"
   ]
  },
  {
   "cell_type": "markdown",
   "metadata": {},
   "source": [
    "\\subsection{Quench Protocol-I : Critical quench}\n",
    "We start with an initial state and initial Hamiltonian,\n",
    "\\begin{align}\n",
    "|\\psi_{0}\\rangle&=\\text{Ground state of H_0} \\\\\n",
    "\\end{align}\n",
    "In order to translate to notation in Mohammad's calculation and (Phys. Rev. B 74, 144423) we need to make a transformation that is done in LMG_quench.lyx.  \n",
    "\n",
    "For the numerics we choose the parameters for the critical quench. We have the data for the following quenches\n",
    "\\begin{itemize}\n",
    "\\item $H_0$ is critical. $H_0\\rightarrow \\{ J_0=1$, $\\gamma_{0z}=1$, $\\gamma_{0y}=0$, $\\Gamma=1\\}$ to $H_f\\rightarrow \\{J=1$, $\\gamma_z=0$, $\\gamma_y=1$ $\\Gamma=1\\}$.\n",
    "\\item $H_0$ is critical. $H_0\\rightarrow \\{J_0=1$, $\\gamma_{0z}=1$, $\\gamma_{0y}=0$, $\\Gamma=1\\}$ to $H_f\\rightarrow \\{J=1$, $\\gamma_z=1$, $\\gamma_y=0.5$ $\\Gamma=1\\}$.\n",
    "\\end{itemize}\n"
   ]
  },
  {
   "cell_type": "markdown",
   "metadata": {},
   "source": [
    "## A. Obtain time dependence of $\\langle S_z^2+S_y^2\\rangle $\n",
    "\n",
    "In this section we focus on a particular system size, (say $L=100$) and plot the time dependence of the spin on th $y-z$ plane.\n",
    "\n"
   ]
  },
  {
   "cell_type": "code",
   "execution_count": 167,
   "metadata": {},
   "outputs": [],
   "source": [
    "L=5000 #Set system size.\n",
    "paramvals0=LMG.Ham_params(N=L,S=L/2,J=1.,γz=1.,γy=0.,Γ=1.)\n",
    "paramvalsf=LMG.Ham_params(N=L,S=L/2,J=1.,γz=1.,γy=0.5,Γ=1.)\n",
    "dt=0.2 #time step\n",
    "Tf=20 # final time step\n",
    "Nsteps=int(Tf/dt) \n",
    "tarr=np.arange(dt,Tf+dt,dt)"
   ]
  },
  {
   "cell_type": "code",
   "execution_count": 168,
   "metadata": {},
   "outputs": [
    {
     "name": "stdout",
     "output_type": "stream",
     "text": [
      "Loading files:\n",
      " /home/paraj/Dropbox/Research_Projects_Current/LMG_Quench/data/Sϕ2t/Sϕ2t_Az_1.0_Ay_0.0_[0_0.2_20.0]_from_L_5000,S_2500.0,J_1.0,Γ_1.0,γz_1.0,γy_0.0_to_L_5000,S_2500.0,J_1.0,Γ_1.0,γz_1.0,γy_0.5.hdf5\n",
      "/home/paraj/Dropbox/Research_Projects_Current/LMG_Quench/data/Sϕ2t/Sϕ2t_Az_0.0_Ay_1.0_[0_0.2_20.0]_from_L_5000,S_2500.0,J_1.0,Γ_1.0,γz_1.0,γy_0.0_to_L_5000,S_2500.0,J_1.0,Γ_1.0,γz_1.0,γy_0.5.hdf5\n"
     ]
    }
   ],
   "source": [
    "#run this or load file\n",
    "directory1='data/Sϕ2t/'\n",
    "directory2='/home/paraj/Dropbox/Research_Projects_Current/LMG_Quench/data/Sϕ2t/'\n",
    "#load Sz^2 data\n",
    "filename1=directory2+'Sϕ2t_Az_1.0_Ay_0.0_[0_'+str(dt)+'_'+str(dt*Nsteps)+']_from_'+paramvals0.paramstr()+'_to_'+paramvalsf.paramstr()+'.hdf5'\n",
    "#load Sy^2 data\n",
    "filename2=directory2+'Sϕ2t_Az_0.0_Ay_1.0_[0_'+str(dt)+'_'+str(dt*Nsteps)+']_from_'+paramvals0.paramstr()+'_to_'+paramvalsf.paramstr()+'.hdf5'\n",
    "if (not os.path.exists(filename1)) or (not os.path.exists(filename2)):\n",
    "    print(\"Data doesn't exist!\")\n",
    "else:\n",
    "    print(\"Loading files:\\n \"+filename1+\"\\n\"+filename2)\n",
    "    with h5py.File(filename1, \"r\") as f:\n",
    "        Sz2arr= f[\"Sϕ2arr\"][...]\n",
    "        InitState=f[\"InitState\"][...]\n",
    "    with h5py.File(filename2, \"r\") as f:\n",
    "        Sy2arr= f[\"Sϕ2arr\"][...]\n",
    "        InitState=f[\"InitState\"][...]"
   ]
  },
  {
   "cell_type": "code",
   "execution_count": 169,
   "metadata": {},
   "outputs": [],
   "source": [
    "Syz2=Sz2arr+Sy2arr"
   ]
  },
  {
   "cell_type": "code",
   "execution_count": 170,
   "metadata": {
    "scrolled": false
   },
   "outputs": [
    {
     "data": {
      "text/html": [
       "<div class=caption><b> Caption: </b> Time-dependence of the total spin for a system size $L=1000$ with the quench parameters shown in the figure. </div>"
      ],
      "text/plain": [
       "<IPython.core.display.HTML object>"
      ]
     },
     "metadata": {},
     "output_type": "display_data"
    },
    {
     "data": {
      "application/json": {
       "caption": "Time-dependence of the total spin for a system size $L=1000$ with the quench parameters shown in the figure. ",
       "label": " "
      }
     },
     "metadata": {
      "application/json": {
       "expanded": false
      }
     },
     "output_type": "display_data"
    },
    {
     "data": {
      "image/png": "[encoded data removed]",
      "text/plain": [
       "<matplotlib.figure.Figure at 0x7f562693f4a8>"
      ]
     },
     "metadata": {},
     "output_type": "display_data"
    }
   ],
   "source": [
    "#plotting\n",
    "plt.plot(tarr,Syz2,'-',color='red',linewidth=2,label='Numerics')\n",
    "#plt.plot(np.linspace(0,Tf,1000),Szt,color='blue',label='Holstein-Primakoff',linewidth=1.5)\n",
    "#plt.axhline(Sz2inf,linestyle='dashed',color= 'black',label='$t=\\\\infty$ avg',linewidth=2)\n",
    "plt.xlabel(\"Time\",fontsize=25)\n",
    "plt.ylabel(\"$\\\\langle S_z^2+S_y^2\\\\rangle$\",fontsize=25)\n",
    "plt.xlim(0,20)\n",
    "plt.ylim(0,np.max(Syz2)+100)\n",
    "plt.legend(numpoints=1,bbox_to_anchor=(1.5,1))\n",
    "plt.title('Quench from \\\\{$\\\\gamma_z= %.1f $, $\\\\gamma_{y}= %.1f $\\\\} to \\\\{$\\\\gamma_z= %.1f $, $\\\\gamma_{y}= %.1f $\\\\} with $L=%d$'%(paramvals0.γz,paramvals0.γy, paramvalsf.γz,paramvalsf.γy,L))\n",
    "figcaption(\"Time-dependence of the total spin for a system size $L=1000$ with the quench parameters shown in the figure. \")"
   ]
  },
  {
   "cell_type": "markdown",
   "metadata": {},
   "source": [
    "# B. $L$ dependence of the time-averaged-$\\langle S_z^2+S_y^2\\rangle$\n",
    "Here we discuss the dependence on system size of the time-averaged correlator. Recall that we are quenching from one critical point to another. In this case, according to Mohammad's calculation using the Holstein Primakoff, it is expected that, for large $N$\n",
    "\\begin{align}\n",
    "\\overline{\\langle(S_{{\\rm tot}}^{z}(t))^{2}\\rangle}\\sim L^{4/3}\n",
    "\\end{align}"
   ]
  },
  {
   "cell_type": "markdown",
   "metadata": {},
   "source": [
    "## Figure-1: Quench to the critical point. $H_0\\equiv \\{J_0=1$, $\\gamma_{0z}=1$,$\\gamma_{0y}=0$, $\\Gamma_0=1\\}$ to $H_f\\equiv \\{J_f=1$,  $\\gamma_{fz}=0$,$\\gamma_{fy}=1$, $\\Gamma_f=1\\}$"
   ]
  },
  {
   "cell_type": "code",
   "execution_count": 171,
   "metadata": {},
   "outputs": [],
   "source": [
    "Larr=np.concatenate([np.arange(100,1000,100),np.arange(1000,10000,1000)]) #Set system size.\n",
    "dt=0.2 #time step\n",
    "Tf=20 # final time step\n",
    "Nsteps=int(Tf/dt) \n",
    "tarr=np.arange(dt,Tf+dt,dt)"
   ]
  },
  {
   "cell_type": "code",
   "execution_count": 172,
   "metadata": {},
   "outputs": [
    {
     "name": "stdout",
     "output_type": "stream",
     "text": [
      "L=800 data doesn't exist!\n",
      "L=2000 data doesn't exist!\n",
      "L=6000 data doesn't exist!\n",
      "L=7000 data doesn't exist!\n",
      "L=8000 data doesn't exist!\n",
      "L=9000 data doesn't exist!\n"
     ]
    }
   ],
   "source": [
    "directory1='data/Sϕ2t/'\n",
    "directory2='/home/paraj/Dropbox/Research_Projects_Current/LMG_Quench/data/Sϕ2t/'\n",
    "Sϕ2vals=np.zeros((Nsteps,np.size(Larr)))\n",
    "deletelist=np.array([],dtype=int)\n",
    "for L,p in zip(Larr,range(np.size(Larr))):\n",
    "    print('L='+str(L), end='\\r', flush=True)\n",
    "    paramvals0=LMG.Ham_params(N=L,S=L/2,J=1.,γz=1.,γy=0.,Γ=1.)\n",
    "    paramvalsf=LMG.Ham_params(N=L,S=L/2,J=1.,γz=1.,γy=0.5,Γ=1.)\n",
    "    #load Sz^2 data\n",
    "    filename1=directory2+'Sϕ2t_Az_1.0_Ay_0.0_[0_'+str(dt)+'_'+str(dt*Nsteps)+']_from_'+paramvals0.paramstr()+'_to_'+paramvalsf.paramstr()+'.hdf5'\n",
    "    #load Sy^2 data\n",
    "    filename2=directory2+'Sϕ2t_Az_0.0_Ay_1.0_[0_'+str(dt)+'_'+str(dt*Nsteps)+']_from_'+paramvals0.paramstr()+'_to_'+paramvalsf.paramstr()+'.hdf5'\n",
    "    if (not os.path.exists(filename1)) or (not os.path.exists(filename2)):\n",
    "        print(\"L=\"+str(L)+\" data doesn't exist!\")\n",
    "        deletelist=np.append(deletelist,int(p))\n",
    "    else:\n",
    "        #print(\"Loading files:\\n \"+filename1+\"\\n\"+filename2)\n",
    "        with h5py.File(filename1, \"r\") as f:\n",
    "            Sz2arr= f[\"Sϕ2arr\"][...]\n",
    "            InitState=f[\"InitState\"][...]\n",
    "        with h5py.File(filename2, \"r\") as f:\n",
    "            Sy2arr= f[\"Sϕ2arr\"][...]\n",
    "            InitState=f[\"InitState\"][...]\n",
    "        Sϕ2vals[:,p]=Sz2arr+Sy2arr\n",
    "Sϕ2vals_nonzero=np.delete(Sϕ2vals,deletelist,axis=1)       \n",
    "Larr_nonzero=np.delete(Larr,deletelist,axis=0)"
   ]
  },
  {
   "cell_type": "code",
   "execution_count": 173,
   "metadata": {},
   "outputs": [],
   "source": [
    "##numerical formulae for time-averaged value\n",
    "Sϕtavg=np.mean(Sϕ2vals_nonzero, axis=0)\n",
    "#linear fit to data\n",
    "logy=np.log10(np.divide(Sϕtavg,Larr_nonzero**2))\n",
    "logx=np.log10(Larr_nonzero)\n",
    "m1,b1 = np.polyfit(logx,logy, 1)\n",
    "#plt.plot(logx,logy,'o')\n",
    "#plt.plot(logx,m1*logx+b1,'--')"
   ]
  },
  {
   "cell_type": "code",
   "execution_count": 174,
   "metadata": {},
   "outputs": [
    {
     "data": {
      "text/html": [
       "<div class=caption><b> Caption: </b> Quench to the critical point. It is clear that the scaling with system size is $\\sim N^{-1/3}$</div>"
      ],
      "text/plain": [
       "<IPython.core.display.HTML object>"
      ]
     },
     "metadata": {},
     "output_type": "display_data"
    },
    {
     "data": {
      "application/json": {
       "caption": "Quench to the critical point. It is clear that the scaling with system size is $\\sim N^{-1/3}$",
       "label": " "
      }
     },
     "metadata": {
      "application/json": {
       "expanded": false
      }
     },
     "output_type": "display_data"
    },
    {
     "data": {
      "image/png": "[encoded data removed]",
      "text/plain": [
       "<matplotlib.figure.Figure at 0x7f56268fa4a8>"
      ]
     },
     "metadata": {},
     "output_type": "display_data"
    }
   ],
   "source": [
    "#Plot average magnetization as a function of L\n",
    "\n",
    "#plt.loglog(Larr,np.divide(np.abs(Sz2infarr-Sztavg),(Sz2infarr)),'o')\n",
    "plt.figure()\n",
    "plt.loglog(Larr_nonzero,np.divide(Sϕtavg,Larr_nonzero**2),'o',label='Numerics')\n",
    "plt.loglog(Larr_nonzero,(10**b1)*(Larr_nonzero)**m1,'--',linewidth=2,label='Fit$\\\\sim L^{%0.2f}$' % m1)\n",
    "plt.ylabel('$\\\\frac{1}{L^2}\\\\overline{\\\\langle S_z^2(t)+ S_y^2(t)\\\\rangle}$',fontsize=25)\n",
    "plt.xlabel('System Size, L',fontsize=25)\n",
    "#plt.title('Quench from  $\\gamma_{z}=%0.1f$,$\\gamma_{y}=%0.1f$ to  $\\gamma_{z}=%0.1f$,$\\gamma_{y}=%0.1f$'%{paramvals0.γz,paramvals0.γy.paramvalsf.γz,paramvalsf.γy},fontsize=25)\n",
    "plt.legend(loc=3,numpoints=1,fontsize=20)\n",
    "figcaption(\"Quench to the critical point. It is clear that the scaling with system size is $\\sim N^{-1/3}$\" )"
   ]
  },
  {
   "cell_type": "markdown",
   "metadata": {},
   "source": [
    "\\subsection{Appendix: Quench Protocol: Sanity Checks}\n",
    "We perform the following sanity check. We donot do a quench. Then there should be no time- depedence of $\\langle S_z^2+S_y^2\\rangle $ and the finite size depednece of long time magnetization should be identical to that of the ground state."
   ]
  },
  {
   "cell_type": "markdown",
   "metadata": {},
   "source": [
    "## Appendix Figure-2: No quench Time dependence of observables\n",
    "$H_0\\equiv \\{J_0=1$, $\\gamma_{0z}=1$,$\\gamma_{0y}=0$, $\\Gamma_0=1\\}$ to $H_f\\equiv \\{J_f=1$,  $\\gamma_{fz}=1$,$\\gamma_{fy}=0$, $\\Gamma_f=1\\}$\n"
   ]
  },
  {
   "cell_type": "code",
   "execution_count": 139,
   "metadata": {},
   "outputs": [],
   "source": [
    "L=1000 #Set system size.\n",
    "paramvals0=LMG.Ham_params(N=L,S=L/2,J=1.,γz=1.,γy=0.,Γ=1.)\n",
    "paramvalsf=LMG.Ham_params(N=L,S=L/2,J=1.,γz=1.,γy=0.,Γ=1.)\n",
    "dt=0.2 #time step\n",
    "Tf=20 # final time step\n",
    "Nsteps=int(Tf/dt) \n",
    "tarr=np.arange(dt,Tf+dt,dt)"
   ]
  },
  {
   "cell_type": "code",
   "execution_count": 140,
   "metadata": {},
   "outputs": [
    {
     "name": "stdout",
     "output_type": "stream",
     "text": [
      "Loading files:\n",
      " /home/paraj/Dropbox/Research_Projects_Current/LMG_Quench/data/Sϕ2t/Sϕ2t_Az_1.0_Ay_0.0_[0_0.2_20.0]_from_L_1000,S_500.0,J_1.0,Γ_1.0,γz_1.0,γy_0.0_to_L_1000,S_500.0,J_1.0,Γ_1.0,γz_1.0,γy_0.0.hdf5\n",
      "/home/paraj/Dropbox/Research_Projects_Current/LMG_Quench/data/Sϕ2t/Sϕ2t_Az_0.0_Ay_1.0_[0_0.2_20.0]_from_L_1000,S_500.0,J_1.0,Γ_1.0,γz_1.0,γy_0.0_to_L_1000,S_500.0,J_1.0,Γ_1.0,γz_1.0,γy_0.0.hdf5\n"
     ]
    }
   ],
   "source": [
    "#run this or load file\n",
    "directory1='data/Sϕ2t/'\n",
    "directory2='/home/paraj/Dropbox/Research_Projects_Current/LMG_Quench/data/Sϕ2t/'\n",
    "#load Sz^2 data\n",
    "filename1=directory2+'Sϕ2t_Az_1.0_Ay_0.0_[0_'+str(dt)+'_'+str(dt*Nsteps)+']_from_'+paramvals0.paramstr()+'_to_'+paramvalsf.paramstr()+'.hdf5'\n",
    "#load Sy^2 data\n",
    "filename2=directory2+'Sϕ2t_Az_0.0_Ay_1.0_[0_'+str(dt)+'_'+str(dt*Nsteps)+']_from_'+paramvals0.paramstr()+'_to_'+paramvalsf.paramstr()+'.hdf5'\n",
    "if (not os.path.exists(filename1)) or (not os.path.exists(filename2)):\n",
    "    print(\"Data doesn't exist!\")\n",
    "else:\n",
    "    print(\"Loading files:\\n \"+filename1+\"\\n\"+filename2)\n",
    "    with h5py.File(filename1, \"r\") as f:\n",
    "        Sz2arr= f[\"Sϕ2arr\"][...]\n",
    "        InitState=f[\"InitState\"][...]\n",
    "    with h5py.File(filename2, \"r\") as f:\n",
    "        Sy2arr= f[\"Sϕ2arr\"][...]\n",
    "        InitState=f[\"InitState\"][...]"
   ]
  },
  {
   "cell_type": "code",
   "execution_count": null,
   "metadata": {},
   "outputs": [],
   "source": [
    "#run this or load file\n",
    "directory1='data/Sϕ2t/'\n",
    "directory2='/home/paraj/Dropbox/Research_Projects_Current/LMG_Quench/data/Sϕ2t/'\n",
    "#load Sz^2 data\n",
    "filename1=directory2+'Sϕ2t_Az_1.0_Ay_0.0_[0_'+str(dt)+'_'+str(dt*Nsteps)+']_from_'+paramvals0.paramstr()+'_to_'+paramvalsf.paramstr()+'.hdf5'\n",
    "#load Sy^2 data\n",
    "filename2=directory2+'Sϕ2t_Az_0.0_Ay_1.0_[0_'+str(dt)+'_'+str(dt*Nsteps)+']_from_'+paramvals0.paramstr()+'_to_'+paramvalsf.paramstr()+'.hdf5'\n",
    "if (not os.path.exists(filename1)) or (not os.path.exists(filename2)):\n",
    "    print(\"Data doesn't exist!\")\n",
    "else:\n",
    "    print(\"Loading files:\\n \"+filename1+\"\\n\"+filename2)\n",
    "    Syz2=Sz2arr+Sy2arrith h5py.File(filename1, \"r\") as f:\n",
    "        Sz2arr= f[\"Sϕ2arr\"][...]\n",
    "        InitState=f[\"InitState\"][...]\n",
    "    with h5py.File(filename2, \"r\") as f:\n",
    "        Sy2arr= f[\"Sϕ2arr\"][...]\n",
    "        InitState=f[\"InitState\"][...]"
   ]
  },
  {
   "cell_type": "code",
   "execution_count": 141,
   "metadata": {},
   "outputs": [],
   "source": [
    "Syz2=Sz2arr+Sy2arr"
   ]
  },
  {
   "cell_type": "code",
   "execution_count": 150,
   "metadata": {},
   "outputs": [
    {
     "data": {
      "text/html": [
       "<div class=caption><b> Caption: </b> Time-dependence of the total spin for a system size $L=1000$ when there is no quench. Note that if we zoom in , there is an oscillation with magnitude $\\sim 0.03$ </div>"
      ],
      "text/plain": [
       "<IPython.core.display.HTML object>"
      ]
     },
     "metadata": {},
     "output_type": "display_data"
    },
    {
     "data": {
      "application/json": {
       "caption": "Time-dependence of the total spin for a system size $L=1000$ when there is no quench. Note that if we zoom in , there is an oscillation with magnitude $\\sim 0.03$ ",
       "label": " "
      }
     },
     "metadata": {
      "application/json": {
       "expanded": false
      }
     },
     "output_type": "display_data"
    },
    {
     "data": {
      "image/png": "[encoded data removed]",
      "text/plain": [
       "<matplotlib.figure.Figure at 0x7f562618de10>"
      ]
     },
     "metadata": {},
     "output_type": "display_data"
    }
   ],
   "source": [
    "#plotting\n",
    "plt.plot(tarr,Syz2,'-',color='red',linewidth=2,label='Numerics')\n",
    "#plt.plot(np.linspace(0,Tf,1000),Szt,color='blue',label='Holstein-Primakoff',linewidth=1.5)\n",
    "#plt.axhline(Sz2inf,linestyle='dashed',color= 'black',label='$t=\\\\infty$ avg',linewidth=2)\n",
    "plt.xlabel(\"Time\",fontsize=25)\n",
    "plt.ylabel(\"$\\\\langle S_z^2+S_y^2\\\\rangle$\",fontsize=25)\n",
    "plt.xlim(0,20)\n",
    "plt.ylim(0,5000)\n",
    "plt.legend(numpoints=1,bbox_to_anchor=(1.5,1))\n",
    "#plt.title('Quench from \\\\{$\\\\gamma_z= %.1f $, $\\\\gamma_{y}= %.1f $\\\\} to \\\\{$\\\\gamma_z= %.1f $, $\\\\gamma_{y}= %.1f $\\\\} with $L=%d$'%(paramvals0.γz,paramvals0.γy, paramvalsf.γz,paramvalsf.γy,L))\n",
    "\n",
    "figcaption(\"Time-dependence of the total spin for a system size $L=1000$ when there is no quench. Note that if we zoom in , there is an oscillation with magnitude $\\sim 0.03$ \")"
   ]
  },
  {
   "cell_type": "markdown",
   "metadata": {},
   "source": [
    "## Appendix Figure-2: No quench, Size dependence\n",
    "$H_0\\equiv \\{J_0=1$, $\\gamma_{0z}=1$,$\\gamma_{0y}=0$, $\\Gamma_0=1\\}$ to $H_f\\equiv \\{J_f=1$,  $\\gamma_{fz}=1$,$\\gamma_{fy}=0$, $\\Gamma_f=1\\}$\n"
   ]
  },
  {
   "cell_type": "code",
   "execution_count": 155,
   "metadata": {},
   "outputs": [],
   "source": [
    "Larr=np.concatenate([np.arange(100,1000,100),np.arange(1000,10000,1000)]) #Set system size.\n",
    "dt=0.2 #time step\n",
    "Tf=20 # final time step\n",
    "Nsteps=int(Tf/dt) \n",
    "tarr=np.arange(dt,Tf+dt,dt)"
   ]
  },
  {
   "cell_type": "code",
   "execution_count": 156,
   "metadata": {},
   "outputs": [
    {
     "name": "stdout",
     "output_type": "stream",
     "text": [
      "L=800 data doesn't exist!\n",
      "L=2000 data doesn't exist!\n",
      "L=5000 data doesn't exist!\n",
      "L=6000 data doesn't exist!\n",
      "L=7000 data doesn't exist!\n",
      "L=8000 data doesn't exist!\n",
      "L=9000 data doesn't exist!\n"
     ]
    }
   ],
   "source": [
    "directory1='data/Sϕ2t/'\n",
    "directory2='/home/paraj/Dropbox/Research_Projects_Current/LMG_Quench/data/Sϕ2t/'\n",
    "Sϕ2vals=np.zeros((Nsteps,np.size(Larr)))\n",
    "deletelist=np.array([],dtype=int)\n",
    "for L,p in zip(Larr,range(np.size(Larr))):\n",
    "    print('L='+str(L), end='\\r', flush=True)\n",
    "    paramvals0=LMG.Ham_params(N=L,S=L/2,J=1.,γz=1.,γy=0.,Γ=1.)\n",
    "    paramvalsf=LMG.Ham_params(N=L,S=L/2,J=1.,γz=1.,γy=0.,Γ=1.)\n",
    "    #load Sz^2 data\n",
    "    filename1=directory2+'Sϕ2t_Az_1.0_Ay_0.0_[0_'+str(dt)+'_'+str(dt*Nsteps)+']_from_'+paramvals0.paramstr()+'_to_'+paramvalsf.paramstr()+'.hdf5'\n",
    "    #load Sy^2 data\n",
    "    filename2=directory2+'Sϕ2t_Az_0.0_Ay_1.0_[0_'+str(dt)+'_'+str(dt*Nsteps)+']_from_'+paramvals0.paramstr()+'_to_'+paramvalsf.paramstr()+'.hdf5'\n",
    "    if (not os.path.exists(filename1)) or (not os.path.exists(filename2)):\n",
    "        print(\"L=\"+str(L)+\" data doesn't exist!\")\n",
    "        deletelist=np.append(deletelist,int(p))\n",
    "    else:\n",
    "        #print(\"Loading files:\\n \"+filename1+\"\\n\"+filename2)\n",
    "        with h5py.File(filename1, \"r\") as f:\n",
    "            Sz2arr= f[\"Sϕ2arr\"][...]\n",
    "            InitState=f[\"InitState\"][...]\n",
    "        with h5py.File(filename2, \"r\") as f:\n",
    "            Sy2arr= f[\"Sϕ2arr\"][...]\n",
    "            InitState=f[\"InitState\"][...]\n",
    "        Sϕ2vals[:,p]=Sz2arr+Sy2arr\n",
    "Sϕ2vals_nonzero=np.delete(Sϕ2vals,deletelist,axis=1)       \n",
    "Larr_nonzero=np.delete(Larr,deletelist,axis=0)"
   ]
  },
  {
   "cell_type": "code",
   "execution_count": 157,
   "metadata": {},
   "outputs": [],
   "source": [
    "##numerical formulae for time-averaged value\n",
    "Sϕtavg=np.mean(Sϕ2vals_nonzero, axis=0)\n",
    "#linear fit to data\n",
    "logy=np.log10(np.divide(Sϕtavg,Larr_nonzero**2))\n",
    "logx=np.log10(Larr_nonzero)\n",
    "m1,b1 = np.polyfit(logx,logy, 1)\n",
    "#plt.plot(logx,logy,'o')\n",
    "#plt.plot(logx,m1*logx+b1,'--')"
   ]
  },
  {
   "cell_type": "code",
   "execution_count": 158,
   "metadata": {},
   "outputs": [
    {
     "data": {
      "text/html": [
       "<div class=caption><b> Caption: </b> Quench to the same initial parameters $\\{\\gamma_{0z}=1,\\gamma_{0y}=0\\}=\\{\\gamma_{fz},\\gamma_{fy}\\}$. It is clear that the scaling with system size is $\\sim N^{-2/3}$</div>"
      ],
      "text/plain": [
       "<IPython.core.display.HTML object>"
      ]
     },
     "metadata": {},
     "output_type": "display_data"
    },
    {
     "data": {
      "application/json": {
       "caption": "Quench to the same initial parameters $\\{\\gamma_{0z}=1,\\gamma_{0y}=0\\}=\\{\\gamma_{fz},\\gamma_{fy}\\}$. It is clear that the scaling with system size is $\\sim N^{-2/3}$",
       "label": " "
      }
     },
     "metadata": {
      "application/json": {
       "expanded": false
      }
     },
     "output_type": "display_data"
    },
    {
     "data": {
      "image/png": "[encoded data removed]",
      "text/plain": [
       "<matplotlib.figure.Figure at 0x7f56266efef0>"
      ]
     },
     "metadata": {},
     "output_type": "display_data"
    }
   ],
   "source": [
    "#Plot average magnetization as a function of L\n",
    "\n",
    "#plt.loglog(Larr,np.divide(np.abs(Sz2infarr-Sztavg),(Sz2infarr)),'o')\n",
    "plt.figure()\n",
    "plt.loglog(Larr_nonzero,np.divide(Sϕtavg,Larr_nonzero**2),'o',label='Numerics')\n",
    "plt.loglog(Larr_nonzero,(10**b1)*(Larr_nonzero)**m1,'--',linewidth=2,label='Fit$\\\\sim L^{%0.2f}$' % m1)\n",
    "plt.ylabel('$\\\\frac{1}{L^2}\\\\overline{\\\\langle S_z^2(t)+ S_y^2(t)\\\\rangle}$',fontsize=25)\n",
    "plt.xlabel('System Size, L',fontsize=25)\n",
    "#plt.title('Quench from  $\\gamma_{z}=%0.1f$,$\\gamma_{y}=%0.1f$ to  $\\gamma_{z}=%0.1f$,$\\gamma_{y}=%0.1f$'%{paramvals0.γz,paramvals0.γy.paramvalsf.γz,paramvalsf.γy},fontsize=25)\n",
    "plt.legend(loc=1,numpoints=1,fontsize=20)\n",
    "figcaption(\"Quench to the same initial parameters $\\{\\gamma_{0z}=1,\\gamma_{0y}=0\\}=\\{\\gamma_{fz},\\gamma_{fy}\\}$. It is clear that the scaling with system size is $\\sim N^{-2/3}$\" )"
   ]
  },
  {
   "cell_type": "code",
   "execution_count": null,
   "metadata": {},
   "outputs": [],
   "source": []
  }
 ],
 "metadata": {
  "kernelspec": {
   "display_name": "Python 3",
   "language": "python",
   "name": "python3"
  },
  "language_info": {
   "codemirror_mode": {
    "name": "ipython",
    "version": 3
   },
   "file_extension": ".py",
   "mimetype": "text/x-python",
   "name": "python",
   "nbconvert_exporter": "python",
   "pygments_lexer": "ipython3",
   "version": "3.5.2"
  },
  "latex_envs": {
   "LaTeX_envs_menu_present": true,
   "autoclose": false,
   "autocomplete": true,
   "bibliofile": "biblio.bib",
   "cite_by": "apalike",
   "current_citInitial": 1,
   "eqLabelWithNumbers": true,
   "eqNumInitial": 1,
   "hotkeys": {
    "equation": "Ctrl-E",
    "itemize": "Ctrl-I"
   },
   "labels_anchors": false,
   "latex_user_defs": false,
   "report_style_numbering": false,
   "user_envs_cfg": false
  }
 },
 "nbformat": 4,
 "nbformat_minor": 2
}
