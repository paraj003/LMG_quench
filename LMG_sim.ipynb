{
 "cells": [
  {
   "cell_type": "markdown",
   "metadata": {},
   "source": [
    "# Code to simulate LMG Model\n",
    "We have the following Hamiltonian\n",
    "\\begin{align}\n",
    "H&=-\\frac{J}{N}\\sum_{i<j}\\sigma_{i}^{z}\\sigma_{j}^{z}+\\gamma\\sigma_{i}^{y}\\sigma_{j}^{y}-\\Gamma\\sum_{i}\\sigma_{i}^{x}\n",
    "\\end{align}\n",
    "This reduces to (See ~/Dropbox/Research_Projects_Current/LMG_quench/LMG_quench.lyx),\n",
    "\\begin{equation}\n",
    "H=-\\frac{J}{2}\\left(1+\\gamma\\left(2+\\frac{N}{2}\\right)\\right)-\\frac{J\\left(2-\\gamma\\right)}{N}S_{z}^{2}+\\frac{J\\gamma}{2N}\\left(S_{+}^{2}+S_{-}^{2}\\right)-\\Gamma\\left(S_{+}+S_{-}\\right)\n",
    "\\end{equation}\n",
    "with the matrix elements,\n",
    "\\begin{align}\n",
    "\\left\\langle S=\\frac{N}{2},M\\right|H\\left|S=\\frac{N}{2},M^{\\prime}\\right\\rangle  & =\\delta_{MM^{\\prime}}\\left[-\\frac{J}{2}\\left(1+\\gamma\\left(1+\\frac{2S\\left(S+1\\right)}{N}\\right)\\right)-\\frac{J\\left(2-\\gamma\\right)}{N}M^{2}\\right]+\\nonumber \\\\\n",
    " & \\ \\ \\ \\delta_{MM^{\\prime}-2}\\left[\\frac{J\\gamma}{2N}\\sqrt{\\left(S\\left(S+1\\right)-\\left(M+2\\right)\\left(M+1\\right)\\right)\\left(S\\left(S+1\\right)-M\\left(M+1\\right)\\right)}\\right]+\\nonumber \\\\\n",
    " & \\ \\ \\ \\delta_{MM^{\\prime}+2}\\left[\\frac{J\\gamma}{2N}\\sqrt{\\left(S\\left(S+1\\right)-\\left(M-2\\right)\\left(M-1\\right)\\right)\\left(S\\left(S+1\\right)-M\\left(M-1\\right)\\right)}\\right]+\\nonumber \\\\\n",
    " & \\ \\ \\ \\delta_{MM^{\\prime}-1}\\left[-\\Gamma\\sqrt{\\left(S\\left(S+1\\right)-M\\left(M+1\\right)\\right)}\\right]+\\nonumber \\\\\n",
    " & \\ \\ \\ \\delta_{MM^{\\prime}+1}\\left[-\\Gamma\\sqrt{\\left(S\\left(S+1\\right)-M\\left(M-1\\right)\\right)}\\right]\n",
    "\\end{align}"
   ]
  },
  {
   "cell_type": "code",
   "execution_count": 30,
   "metadata": {},
   "outputs": [],
   "source": [
    "import numpy as np\n",
    "from scipy import linalg as LA\n",
    "import matplotlib as plt"
   ]
  },
  {
   "cell_type": "code",
   "execution_count": 2,
   "metadata": {},
   "outputs": [],
   "source": [
    "#define Hamiltonian parameters\n",
    "class Ham_params:\n",
    "    def __init__(self, N:int,S:float,J:float,γ:float,Γ:float):\n",
    "        self.N=N #number of spins, keep it even\n",
    "        self.S=S #spin sector\n",
    "        self.J=J #Ising hopping\n",
    "        self.γ=γ #anisotropy factor\n",
    "        self.Γ=Γ #Transverse field"
   ]
  },
  {
   "cell_type": "code",
   "execution_count": 33,
   "metadata": {},
   "outputs": [],
   "source": [
    "def LMG_matrixelement(X:Ham_params,M:float,Mprime:float):\n",
    "    #computes the matrix element <S,M|H|S,M'>\n",
    "    value=0 \n",
    "    if abs(M-Mprime)<10**-5:\n",
    "        value= -(X.J/2)*(1+X.γ*(1+2*X.S*(X.S+1)/X.N))-(M**2)*X.J*(2-X.γ)/X.N\n",
    "    elif abs(M-(Mprime-2))<10**-5:\n",
    "        value= X.J*X.γ/(2*X.N)*np.sqrt((X.S*(X.S+1)-(M+2)*(M+1))*(X.S*(X.S+1)-M*(M+1)))\n",
    "    elif abs(M-(Mprime+2))<10**-5:\n",
    "        value= X.J*X.γ/(2*X.N)*np.sqrt((X.S*(X.S+1)-(M-2)*(M-1))*(X.S*(X.S+1)-M*(M-1)))\n",
    "    elif abs(M-(Mprime-1))<10**-5:\n",
    "        value=-X.Γ*np.sqrt(X.S*(X.S+1)-M*(M+1))\n",
    "    elif abs(M-(Mprime+1))<10**-5:\n",
    "        value=-X.Γ*np.sqrt(X.S*(X.S+1)-M*(M-1))\n",
    "    return value         \n",
    "def LMG_generateHam(X:Ham_params):\n",
    "    #Generate (2*S+1,2*S+1) matrix.\n",
    "    Ham=np.zeros((2*X.N+1,2*X.N+1))\n",
    "    Marr=np.linspace(-X.N//2,X.N//2,2*X.N+1)\n",
    "    for p in range(np.size(Marr)):\n",
    "        for q in range(np.size(Marr)):\n",
    "            Ham[p,q]=LMG_matrixelement(X,Marr[p],Marr[q])\n",
    "    return Ham"
   ]
  },
  {
   "cell_type": "code",
   "execution_count": 35,
   "metadata": {},
   "outputs": [],
   "source": [
    "paramvals=Ham_params(N=100,S=50,J=1,γ=0.5,Γ=1)\n",
    "Ham=LMG_generateHam(paramvals)\n",
    "(Ham.transpose() == Ham).all() #check hermitian\n",
    "#diagonalize\n",
    "Energies,Eigenvecs=LA.eig(Ham)\n",
    "idx = Energies.argsort()  \n",
    "Energies =Energies[idx]\n",
    "Eigenvecs = Eigenvecs[:,idx]"
   ]
  },
  {
   "cell_type": "markdown",
   "metadata": {},
   "source": [
    "\\subsection{Quench Protocol}\n",
    "We start with an initial state and initial Hamiltonian,\n",
    "\\begin{align}\n",
    "|\\psi_{0}\\rangle&=\\\\\n",
    "H_0&=\n",
    "\\end{align}"
   ]
  },
  {
   "cell_type": "code",
   "execution_count": 28,
   "metadata": {},
   "outputs": [],
   "source": [
    "#quench protocol\n",
    "prequenchparams=Ham_params(N=100,S=50,J=1,γ=0.5,Γ=1)\n",
    "postquenchparams=Ham_params(N=100,S=50,J=1,γ=0.5,Γ=2)\n",
    "initstate=\n",
    "\n",
    "tarr\n",
    "U_t=LA.expm(-1j*Ham*t)"
   ]
  },
  {
   "cell_type": "code",
   "execution_count": null,
   "metadata": {},
   "outputs": [],
   "source": []
  }
 ],
 "metadata": {
  "kernelspec": {
   "display_name": "Python 3",
   "language": "python",
   "name": "python3"
  },
  "language_info": {
   "codemirror_mode": {
    "name": "ipython",
    "version": 3
   },
   "file_extension": ".py",
   "mimetype": "text/x-python",
   "name": "python",
   "nbconvert_exporter": "python",
   "pygments_lexer": "ipython3",
   "version": "3.5.2"
  },
  "latex_envs": {
   "LaTeX_envs_menu_present": true,
   "autoclose": false,
   "autocomplete": true,
   "bibliofile": "biblio.bib",
   "cite_by": "apalike",
   "current_citInitial": 1,
   "eqLabelWithNumbers": true,
   "eqNumInitial": 1,
   "hotkeys": {
    "equation": "Ctrl-E",
    "itemize": "Ctrl-I"
   },
   "labels_anchors": false,
   "latex_user_defs": false,
   "report_style_numbering": false,
   "user_envs_cfg": false
  }
 },
 "nbformat": 4,
 "nbformat_minor": 2
}
